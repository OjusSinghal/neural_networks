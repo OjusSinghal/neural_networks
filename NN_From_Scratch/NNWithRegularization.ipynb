{
 "cells": [
  {
   "cell_type": "code",
   "execution_count": 24,
   "metadata": {},
   "outputs": [],
   "source": [
    "import gzip\n",
    "import sys\n",
    "import time\n",
    "import numpy as np\n",
    "from sklearn.utils import shuffle\n",
    "import sklearn.preprocessing as prep\n",
    "import matplotlib.pyplot as plt"
   ]
  },
  {
   "cell_type": "code",
   "execution_count": 25,
   "metadata": {},
   "outputs": [],
   "source": [
    "import warnings\n",
    "warnings.filterwarnings('ignore') "
   ]
  },
  {
   "cell_type": "code",
   "execution_count": 26,
   "metadata": {},
   "outputs": [],
   "source": [
    "def get_data(sample_size, pathX, pathY):\n",
    "    f = gzip.open(pathX, 'r')\n",
    "\n",
    "    # read off unimportant bytes describing file protocol\n",
    "    image_size = 28 * 28\n",
    "    protocol_length = 16\n",
    "    f.read(protocol_length)\n",
    "\n",
    "    X = f.read(image_size * sample_size)\n",
    "    X = np.frombuffer(X, dtype=np.uint8).astype(np.float32)\n",
    "    X = X.reshape(sample_size, image_size)\n",
    "\n",
    "    f = gzip.open(pathY, 'r')\n",
    "\n",
    "    protocol_length = 8\n",
    "    f.read(protocol_length)\n",
    "    Y_temp = f.read(sample_size)\n",
    "    Y_temp = np.frombuffer(Y_temp, dtype=np.uint8)\n",
    "\n",
    "    Y = np.zeros([sample_size, 10], dtype='f')\n",
    "    for sample in range(sample_size):\n",
    "        Y[sample][Y_temp[sample]] = 1.0\n",
    "    \n",
    "    return [prep.scale(X), Y]"
   ]
  },
  {
   "cell_type": "code",
   "execution_count": 27,
   "metadata": {},
   "outputs": [],
   "source": [
    "class Network:\n",
    "    def __init__(self, layers):\n",
    "        self.layers = layers\n",
    "        self.w = []\n",
    "        self.b = []\n",
    "        for layer in range(1, len(layers)):\n",
    "            self.w.append((2.0 * (np.random.randint(1e9, size=[layers[layer], layers[layer - 1]]) / 1e9)) - 1.0)\n",
    "            self.b.append(((2.0 * (np.random.randint(1e9, size=[layers[layer]]) / 1e9)) - 1.0).reshape([layers[layer], 1]))\n",
    "\n",
    "    def sigmoid(self, data):\n",
    "        epsilon = 1e-8\n",
    "        return 1.0 / (1.0 + np.exp(-data + epsilon))\n",
    "\n",
    "    def sigmoid_derivative(self, data):\n",
    "        temp = self.sigmoid(data)\n",
    "        return temp * (1 - temp)\n",
    "\n",
    "    def tanh(self, data):\n",
    "        return np.tanh(data)\n",
    "    \n",
    "    def tanh_derivative(self, data):\n",
    "        return 1 - np.tanh(data) ** 2\n",
    "\n",
    "    def activation(self, data):\n",
    "        return self.tanh(data)\n",
    "\n",
    "    def activation_derivative(self, data):\n",
    "        return self.tanh_derivative(data)\n",
    "\n",
    "    def backPropFast(self, train_X, train_Y, eta, lambd, p_keep):\n",
    "        m = len(train_X[0])\n",
    "\n",
    "        gradients_w = [np.zeros([self.layers[layer], self.layers[layer - 1]], dtype='f') for layer in range(1, len(self.layers))]\n",
    "        gradients_b = [np.zeros([self.layers[layer]], dtype='f') for layer in range(1, len(self.layers))]\n",
    "        activations = [train_X]\n",
    "        zs = [train_X]\n",
    "\n",
    "        last_layer = len(self.layers) - 2\n",
    "\n",
    "        for layer in range(len(self.layers) - 1):\n",
    "            zs.append(np.dot(self.w[layer], activations[-1]) + self.b[layer])\n",
    "            if layer == last_layer: activations.append(self.sigmoid(zs[-1]))\n",
    "            else: activations.append(self.activation(zs[-1]))\n",
    "            keeper = np.random.rand(activations[-1].shape[0], activations[-1].shape[1]) < p_keep[layer + 1]\n",
    "            activations[-1] = np.multiply(activations[-1], keeper)\n",
    "\n",
    "        delta_l = (activations[-1] - train_Y) * self.sigmoid_derivative(zs[-1])\n",
    "        gradients_b[-1] = delta_l.sum(axis=1)\n",
    "        gradients_w[-1] = np.dot(delta_l, np.transpose(activations[-2])) + lambd * self.w[-1] / float(m)\n",
    "\n",
    "        for layer in range(len(self.layers) - 2, 0, -1):\n",
    "            delta_l = np.dot(np.transpose(self.w[layer]), delta_l) * self.activation_derivative(zs[layer])\n",
    "            gradients_b[layer - 1] += delta_l.sum(axis=1)\n",
    "            gradients_w[layer - 1] += np.dot(delta_l, np.transpose(activations[layer - 1])) + lambd * self.w[layer - 1] / float(m)\n",
    "        \n",
    "        for layer in range(len(gradients_b)):\n",
    "            self.w[layer] -= eta * gradients_w[layer] / float(m)\n",
    "            self.b[layer] -= eta * gradients_b[layer].reshape([len(gradients_b[layer]), 1]) / float(m)\n",
    "\n",
    "    def train(self, train_X, train_Y, batch_size, eta=1.0, lambd=0.0, p_keep=None):\n",
    "        m = len(train_X[0]) #60000\n",
    "        if not p_keep: p_keep = [1.0 for i in range(len(self.layers))]\n",
    "        for batch in range(int(m / batch_size)):\n",
    "            X = train_X[ : , batch * batch_size : (batch + 1) * batch_size]\n",
    "            Y = train_Y[ : , batch * batch_size : (batch + 1) * batch_size]\n",
    "            self.backPropFast(X, Y, eta, lambd, p_keep)\n",
    "\n",
    "    def getOutputLayer(self, X, Y):\n",
    "        last_layer = len(self.layers) - 2\n",
    "        for layer in range(len(self.layers) - 1):\n",
    "            if layer == last_layer: X = self.sigmoid(np.dot(self.w[layer], X) + self.b[layer].reshape([self.layers[layer + 1], 1]))\n",
    "            else: X = self.activation(np.dot(self.w[layer], X) + self.b[layer].reshape([self.layers[layer + 1], 1]))\n",
    "        return X\n",
    "\n",
    "    def getAccuracy(self, X, Y):\n",
    "        predictions = np.argmax(self.getOutputLayer(X, Y), 0)\n",
    "        Y = np.argmax(Y, 0)\n",
    "        return (predictions == Y).sum() / float(len(Y))\n",
    "\n",
    "    def getLoss(self, X, Y):\n",
    "        loss = np.sum(np.square(self.getOutputLayer(X, Y) - Y)) / float(Y.shape[1])\n",
    "        return loss\n"
   ]
  },
  {
   "cell_type": "code",
   "execution_count": 32,
   "metadata": {},
   "outputs": [],
   "source": [
    "train_size = 6000\n",
    "test_size = 1000\n",
    "\n",
    "\"\"\"MNIST DATASET\"\"\"\n",
    "# train_X, train_Y = get_data(train_size, 'MNIST_Dataset/train-images-idx3-ubyte.gz', 'MNIST_Dataset/train-labels-idx1-ubyte.gz')\n",
    "# test_X, test_Y = [np.transpose(a) for a in get_data(test_size, 'MNIST_Dataset/t10k-images-idx3-ubyte.gz', 'MNIST_Dataset/t10k-labels-idx1-ubyte.gz')]\n",
    "\n",
    "\"\"\"FMNIST DATASET\"\"\"\n",
    "train_X, train_Y = get_data(train_size, 'FMNIST_Dataset/train-images-idx3-ubyte.gz', 'FMNIST_Dataset/train-labels-idx1-ubyte.gz')\n",
    "test_X, test_Y = [np.transpose(a) for a in get_data(test_size, 'FMNIST_Dataset/t10k-images-idx3-ubyte.gz', 'FMNIST_Dataset/t10k-labels-idx1-ubyte.gz')]\n"
   ]
  },
  {
   "cell_type": "code",
   "execution_count": 34,
   "metadata": {},
   "outputs": [
    {
     "name": "stdout",
     "output_type": "stream",
     "text": [
      "(6000, 784)\n",
      "(6000, 10)\n",
      "(784, 1000)\n",
      "(10, 1000)\n"
     ]
    }
   ],
   "source": [
    "print(train_X.shape)\n",
    "print(train_Y.shape)\n",
    "\n",
    "print(test_X.shape)\n",
    "print(test_Y.shape)"
   ]
  },
  {
   "cell_type": "code",
   "execution_count": 30,
   "metadata": {},
   "outputs": [],
   "source": [
    "layers = [784, 32, 10]\n",
    "batch_size = 101\n",
    "eta = 1.0\n",
    "epochs = 10\n",
    "lambd = 0\n",
    "decay_rate = 0\n",
    "p_keep = [1.0, 1.0, 1.0]\n",
    "\n",
    "network = Network(layers)"
   ]
  },
  {
   "cell_type": "code",
   "execution_count": 31,
   "metadata": {},
   "outputs": [
    {
     "name": "stdout",
     "output_type": "stream",
     "text": [
      "Epoch: 1 0.481\n",
      "Epoch: 2 0.628\n",
      "Epoch: 3 0.67\n",
      "Epoch: 4 0.696\n",
      "Epoch: 5 0.707\n",
      "Epoch: 6 0.71\n",
      "Epoch: 7 0.715\n",
      "Epoch: 8 0.727\n",
      "Epoch: 9 0.727\n",
      "Epoch: 10 0.732\n"
     ]
    },
    {
     "data": {
      "image/png": "[encoded data removed]",
      "text/plain": [
       "<Figure size 432x288 with 1 Axes>"
      ]
     },
     "metadata": {},
     "output_type": "display_data"
    },
    {
     "data": {
      "image/png": "[encoded data removed]",
      "text/plain": [
       "<Figure size 432x288 with 1 Axes>"
      ]
     },
     "metadata": {},
     "output_type": "display_data"
    },
    {
     "name": "stdout",
     "output_type": "stream",
     "text": [
      "Final train accuracy: 0.77683336\n",
      "Final test accuracy: 0.732\n"
     ]
    }
   ],
   "source": [
    "train_accuracies = np.zeros([epochs], dtype='f')\n",
    "test_accuracies = np.zeros([epochs], dtype='f')\n",
    "\n",
    "train_losses = np.zeros([epochs], dtype='f')\n",
    "test_losses = np.zeros([epochs], dtype='f')\n",
    "\n",
    "for epoch in range(epochs):\n",
    "    print(\"Epoch:\", epoch + 1, end=\" \")\n",
    "\n",
    "    train_X, train_Y = shuffle(train_X, train_Y)\n",
    "    start_time = time.perf_counter()\n",
    "    network.train(np.transpose(train_X), np.transpose(train_Y), batch_size, eta, lambd, p_keep)\n",
    "    eta = eta / (1 + decay_rate * epoch)\n",
    "\n",
    "    train_losses[epoch] = network.getLoss(np.transpose(train_X), np.transpose(train_Y))\n",
    "    test_losses[epoch] = network.getLoss(test_X, test_Y)\n",
    "\n",
    "    train_accuracies[epoch] = network.getAccuracy(np.transpose(train_X), np.transpose(train_Y))\n",
    "    test_accuracies[epoch] = network.getAccuracy(test_X, test_Y)\n",
    "\n",
    "    print(test_accuracies[epoch])\n",
    "\n",
    "    # print(f\"Time taken in this epoch = {time.perf_counter() - start_time:0.1f} seconds\")\n",
    "\n",
    "plt.plot(np.arange(epochs), train_losses, label=\"Train loss\")\n",
    "plt.plot(np.arange(epochs), test_losses, label=\"Test loss\")\n",
    "plt.legend(loc=\"upper right\")\n",
    "\n",
    "plt.show()\n",
    "\n",
    "plt.plot(np.arange(epochs), train_accuracies, label=\"Train accuracy\")\n",
    "plt.plot(np.arange(epochs), test_accuracies, label=\"Test accuracy\")\n",
    "plt.legend(loc=\"lower right\")\n",
    "\n",
    "plt.show()\n",
    "\n",
    "print(\"Final train accuracy:\", train_accuracies[-1])\n",
    "print(\"Final test accuracy:\", test_accuracies[-1])"
   ]
  }
 ],
 "metadata": {
  "kernelspec": {
   "display_name": "Python 3.10.4 64-bit",
   "language": "python",
   "name": "python3"
  },
  "language_info": {
   "codemirror_mode": {
    "name": "ipython",
    "version": 3
   },
   "file_extension": ".py",
   "mimetype": "text/x-python",
   "name": "python",
   "nbconvert_exporter": "python",
   "pygments_lexer": "ipython3",
   "version": "3.10.4"
  },
  "orig_nbformat": 4,
  "vscode": {
   "interpreter": {
    "hash": "31f2aee4e71d21fbe5cf8b01ff0e069b9275f58929596ceb00d14d90e3e16cd6"
   }
  }
 },
 "nbformat": 4,
 "nbformat_minor": 2
}
