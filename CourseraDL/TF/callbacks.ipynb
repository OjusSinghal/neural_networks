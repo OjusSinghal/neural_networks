{
 "cells": [
  {
   "cell_type": "code",
   "execution_count": null,
   "metadata": {},
   "outputs": [],
   "source": [
    "import tensorflow as tf"
   ]
  },
  {
   "cell_type": "code",
   "execution_count": 4,
   "metadata": {},
   "outputs": [],
   "source": [
    "fmnist = tf.keras.datasets.fashion_mnist\n",
    "\n",
    "(x_train, y_train),(x_test, y_test) = fmnist.load_data()\n",
    "x_train, x_test = x_train / 255.0, x_test / 255.0"
   ]
  },
  {
   "cell_type": "code",
   "execution_count": null,
   "metadata": {},
   "outputs": [],
   "source": [
    "What is behavioral finance it's the study of the crazy ways our very flawed human brains make financial choices hi i'm graham newell and i'm a speaker and behavioral finance researcher i take perverse pleasure in throwing people inside of brain scanners then i map the parts of their brain that light up as they make tough financial choices here's what i've learned after many years of peaking inside of people's brains most of us believe we make pretty rational financial choices but nothing could be farther from the truth all of us including me routinely succumb to the hundreds of cognitive biases that badly distort our money choices why are we all so incredibly bad at money choices well it's a software problem a brain software problem the human brain has gradually evolved over the past 2 million years and for 98 of that time our human brain has been chugging along working hard to optimize for the problems faced by hunter gatherers things like not starving avoiding freezing to death and maybe if you're lucky finding a good looking cave lady so you can pass along your dna to the next generation fancy skills like agriculture and living in houses are a crazy new lifestyle for humans civilizations been around for only about 10 000 years so although we dress well now and we use all the latest gadgets our very ancient brains haven't had time to evolve this means that when we inevitably run into modern problems our badly out of date brains still react just like a caveman this is the reason so many of us get run down and slaughtered when we attempt to navigate modern problems like investing somehow next quarter's earnings projections just never seem to come up around the caveman campfire behavioral finance scientists study the very specific ways our brains tend to stumble when making money decisions now what's really great about behavioral finance is that a lot of us do our research by playing fun games with people during my behavioral finance speeches and webinars we have a lot of fun because we play money games we swap and trade i give away prizes i play a lot of pricing games using wine because you just can't tell if this is a 5 bottle of wine or a hundred dollar bottle so do you think you're pretty good at managing money well let's play a little game right now okay question for you a bat and ball cost a dollar and 10 cents the bat costs one dollar more than the ball so how much does the ball cost did the answer 10 cents immediately spring to mind it certainly did for me the first time i played this game and that's the answer the vast majority of people give this is an example of a cognitive bias called cognitive reflection this test measures our ability to override our incorrect gut response and to engage our wiser more rational brain by the way the correct answer to the question is that the bat costs one dollar and five cents and the ball costs five cents for a total of one dollar and ten cents behavioral finance research shows that most of us are really pretty bad at taming our often misguided instinctual brain and behavior finance research reveals the specific situations when we're most likely to slip up and make a bad choice so what do these biases look like well there are hundreds but the one that shows up most often in the world of money is the illusory correlation bias this is our brain's pesky tendency to believe that a random act is caused by another random act for example i get out of bed every morning and the sun rises too so i cause the sun to rise and in the past you've just happened to perfectly time an equity purchase and make a fortune therefore you're a super savvy investor random chance assures that every now and then we'll all come up winners in the market and our brain has a tendency to remember the profitable trades and forget the losers and this is how the average investor gets in trouble another behavioral finance bias is recency bias the tendency to overvalue information that we recently read there's false memory bias our habit to recall events that never happened because it fits our narrative there's the availability heuristic the bias to over trust facts we can easily pull from memory there's neglect of probability bias our brain's tendency to be wildly wrong at estimating risk and one of my favorites survivorship bias the inclination to over trust the opinions of winners and discount the advice of those who lost but if there's one unanimous conclusion amongst behavioral finance researchers it's this it's not the markets that torpedo most people's financial future the biggest obstacle to wealth is us and the reckless meddling our instinctual brain tempts us to do just take a look at the hundred year history of the dow and you'll see it's pretty easy to make a boatload of money invest in a diversified portfolio then leave it alone stop looking at it stop messing with it but we just can't help ourselves when markets skyrocket or take a nosedive our instinctual brain takes over we're exuberant or we panic our fight or flight instinct takes over and we do stupid things so i hope you'll start your behavioral finance education right now i've produced dozens and dozens of fun videos that'll show you how to recognize the signs that an impulsive decision might be likely click on this box right here to see the full playlist and i'm always working on new videos about how cognitive biases tempt us to make bad financial choices if you'd like to be alerted as other videos are completed just click on my face below to subscribe and be sure to click that alert bell too i'm graeme newell and that's better decisions through brain science\n",
    "\n"
   ]
  }
 ],
 "metadata": {
  "kernelspec": {
   "display_name": "Python 3.10.7 64-bit",
   "language": "python",
   "name": "python3"
  },
  "language_info": {
   "codemirror_mode": {
    "name": "ipython",
    "version": 3
   },
   "file_extension": ".py",
   "mimetype": "text/x-python",
   "name": "python",
   "nbconvert_exporter": "python",
   "pygments_lexer": "ipython3",
   "version": "3.10.7"
  },
  "orig_nbformat": 4,
  "vscode": {
   "interpreter": {
    "hash": "31f2aee4e71d21fbe5cf8b01ff0e069b9275f58929596ceb00d14d90e3e16cd6"
   }
  }
 },
 "nbformat": 4,
 "nbformat_minor": 2
}
