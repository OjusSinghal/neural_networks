{
 "cells": [
  {
   "cell_type": "code",
   "execution_count": null,
   "metadata": {},
   "outputs": [],
   "source": [
    "import numpy as np\n",
    "import pandas as pd\n",
    "import tensorflow as tf\n",
    "import tensorflow.keras as keras\n",
    "\n",
    "import tensorflow.keras.layers as layers\n",
    "from sklearn.metrics import confusion_matrix"
   ]
  },
  {
   "cell_type": "code",
   "execution_count": 3,
   "metadata": {},
   "outputs": [],
   "source": [
    "train_path = 'train.csv'\n",
    "test_path = 'test.csv'\n",
    "\n",
    "data = pd.read_csv(train_path)\n",
    "test_data = pd.read_csv(test_path)\n",
    "\n",
    "\n",
    "for column in data.columns:\n",
    "    if column == 'Prediction' or column == 'Email No.' : continue\n",
    "    data[column] = (data[column] - data[column].mean()) / data[column].std()\n",
    "\n",
    "for column in test_data.columns:\n",
    "    if column == 'Prediction' or column == 'Email No.' : continue\n",
    "    test_data[column] = (test_data[column] - test_data[column].mean()) / test_data[column].std()"
   ]
  },
  {
   "cell_type": "code",
   "execution_count": 89,
   "metadata": {},
   "outputs": [],
   "source": [
    "data = data.sample(frac = 1)\n",
    "m = data.shape[0]\n",
    "train_size = int(m * 0.8)\n",
    "dev_size = m - train_size\n",
    "\n",
    "y = np.array(data['Prediction'])\n",
    "x = np.array(data.drop(['Prediction', 'Email No.'], axis=1)).astype('f')\n",
    "\n",
    "train_x = x[ : train_size , : ]\n",
    "train_y = y[ : train_size]\n",
    "\n",
    "dev_x = x[train_size : , : ]\n",
    "dev_y = y[train_size : ]\n",
    "\n",
    "# train_data = data[ : train_size]\n",
    "# dev_data = data[train_size : ]\n",
    "\n",
    "# train_y = np.array(train_data['Prediction'])\n",
    "# train_x = np.array(train_data.drop(['Prediction', 'Email No.'], axis=1)).astype('f')\n",
    "\n",
    "# dev_y = np.array(dev_data['Prediction'])\n",
    "# dev_x = np.array(dev_data.drop(['Prediction', 'Email No.'], axis=1)).astype('f')\n",
    "\n",
    "test_x = np.array(test_data.drop(['Email No.'], axis=1).fillna(0)).astype('f')\n",
    "# test_x = test_data.drop(['Email No.'], axis=1).fillna(0)\n",
    "# print(test_x.isnull().sum().sum())\n",
    "# print(dev_x.isnull().sum().sum())"
   ]
  },
  {
   "cell_type": "code",
   "execution_count": 90,
   "metadata": {},
   "outputs": [],
   "source": [
    "tf.random.set_seed(1)\n",
    "\n",
    "network1 = keras.Sequential([\n",
    "    layers.Dense(1024, activation='ReLU', kernel_regularizer=keras.regularizers.L2(1e-2)),\n",
    "    layers.Dropout(0.15),\n",
    "    layers.Dense(256, activation='ReLU', kernel_regularizer=keras.regularizers.L2(1e-2)),\n",
    "    layers.Dropout(0.15),\n",
    "    layers.Dense(64, activation='ReLU', kernel_regularizer=keras.regularizers.L2(1e-2)),\n",
    "    layers.Dropout(0.1),\n",
    "    layers.Dense(8, activation='ReLU', kernel_regularizer=keras.regularizers.L2(1e-2)),\n",
    "    layers.Dense(1, activation='sigmoid')\n",
    "])\n",
    "\n",
    "network1.compile(optimizer=\"adam\", loss=\"mse\", metrics=['accuracy'])\n",
    "\n",
    "network2 = keras.Sequential([\n",
    "    layers.Dense(1024, activation='ReLU'),\n",
    "    layers.Dropout(0.15),\n",
    "    layers.Dense(2048, activation='ReLU'),\n",
    "    layers.Dropout(0.3),\n",
    "    layers.Dense(512, activation='ReLU'),\n",
    "    layers.Dropout(0.1),\n",
    "    layers.Dense(32, activation='ReLU'),\n",
    "    layers.Dense(1, activation='sigmoid')\n",
    "])\n",
    "\n",
    "network2.compile(optimizer=\"adam\", loss=\"mse\", metrics=['accuracy'])"
   ]
  },
  {
   "cell_type": "code",
   "execution_count": 91,
   "metadata": {},
   "outputs": [
    {
     "name": "stdout",
     "output_type": "stream",
     "text": [
      "Epoch 1/30\n",
      "31/31 - 2s - loss: 9.0393 - accuracy: 0.8733 - val_loss: 2.3253 - val_accuracy: 0.9643 - 2s/epoch - 63ms/step\n",
      "Epoch 2/30\n",
      "31/31 - 1s - loss: 1.1852 - accuracy: 0.9607 - val_loss: 0.5949 - val_accuracy: 0.9429 - 1s/epoch - 43ms/step\n",
      "Epoch 3/30\n",
      "31/31 - 1s - loss: 0.4139 - accuracy: 0.9681 - val_loss: 0.2991 - val_accuracy: 0.9531 - 1s/epoch - 41ms/step\n",
      "Epoch 4/30\n",
      "31/31 - 1s - loss: 0.2449 - accuracy: 0.9686 - val_loss: 0.2117 - val_accuracy: 0.9673 - 1s/epoch - 42ms/step\n",
      "Epoch 5/30\n",
      "31/31 - 1s - loss: 0.1826 - accuracy: 0.9696 - val_loss: 0.1676 - val_accuracy: 0.9592 - 1s/epoch - 45ms/step\n",
      "Epoch 6/30\n",
      "31/31 - 2s - loss: 0.1584 - accuracy: 0.9676 - val_loss: 0.1423 - val_accuracy: 0.9673 - 2s/epoch - 59ms/step\n",
      "Epoch 7/30\n",
      "31/31 - 1s - loss: 0.1279 - accuracy: 0.9788 - val_loss: 0.1240 - val_accuracy: 0.9796 - 1s/epoch - 45ms/step\n",
      "Epoch 8/30\n",
      "31/31 - 1s - loss: 0.1227 - accuracy: 0.9724 - val_loss: 0.1228 - val_accuracy: 0.9796 - 1s/epoch - 39ms/step\n",
      "Epoch 9/30\n",
      "31/31 - 1s - loss: 0.1185 - accuracy: 0.9750 - val_loss: 0.1185 - val_accuracy: 0.9837 - 1s/epoch - 41ms/step\n",
      "Epoch 10/30\n",
      "31/31 - 1s - loss: 0.1078 - accuracy: 0.9826 - val_loss: 0.1130 - val_accuracy: 0.9776 - 1s/epoch - 44ms/step\n",
      "Epoch 11/30\n",
      "31/31 - 1s - loss: 0.1025 - accuracy: 0.9803 - val_loss: 0.1035 - val_accuracy: 0.9663 - 1s/epoch - 41ms/step\n",
      "Epoch 12/30\n",
      "31/31 - 1s - loss: 0.0966 - accuracy: 0.9760 - val_loss: 0.1031 - val_accuracy: 0.9786 - 1s/epoch - 44ms/step\n",
      "Epoch 13/30\n",
      "31/31 - 1s - loss: 0.0942 - accuracy: 0.9829 - val_loss: 0.0957 - val_accuracy: 0.9796 - 1s/epoch - 43ms/step\n",
      "Epoch 14/30\n",
      "31/31 - 1s - loss: 0.0941 - accuracy: 0.9785 - val_loss: 0.0946 - val_accuracy: 0.9827 - 1s/epoch - 45ms/step\n",
      "Epoch 15/30\n",
      "31/31 - 1s - loss: 0.0878 - accuracy: 0.9842 - val_loss: 0.0925 - val_accuracy: 0.9755 - 1s/epoch - 46ms/step\n",
      "Epoch 16/30\n",
      "31/31 - 1s - loss: 0.0855 - accuracy: 0.9826 - val_loss: 0.0888 - val_accuracy: 0.9837 - 1s/epoch - 44ms/step\n",
      "Epoch 17/30\n",
      "31/31 - 1s - loss: 0.0872 - accuracy: 0.9798 - val_loss: 0.0967 - val_accuracy: 0.9612 - 1s/epoch - 46ms/step\n",
      "Epoch 18/30\n",
      "31/31 - 1s - loss: 0.0863 - accuracy: 0.9826 - val_loss: 0.0924 - val_accuracy: 0.9663 - 1s/epoch - 47ms/step\n",
      "Epoch 19/30\n",
      "31/31 - 2s - loss: 0.0812 - accuracy: 0.9844 - val_loss: 0.0852 - val_accuracy: 0.9816 - 2s/epoch - 49ms/step\n",
      "Epoch 20/30\n",
      "31/31 - 1s - loss: 0.0917 - accuracy: 0.9770 - val_loss: 0.0986 - val_accuracy: 0.9653 - 1s/epoch - 48ms/step\n",
      "Epoch 21/30\n",
      "31/31 - 1s - loss: 0.0848 - accuracy: 0.9829 - val_loss: 0.0867 - val_accuracy: 0.9786 - 1s/epoch - 44ms/step\n",
      "Epoch 22/30\n",
      "31/31 - 1s - loss: 0.0795 - accuracy: 0.9829 - val_loss: 0.0837 - val_accuracy: 0.9847 - 1s/epoch - 45ms/step\n",
      "Epoch 23/30\n",
      "31/31 - 1s - loss: 0.0780 - accuracy: 0.9847 - val_loss: 0.0881 - val_accuracy: 0.9827 - 1s/epoch - 42ms/step\n",
      "Epoch 24/30\n",
      "31/31 - 1s - loss: 0.0846 - accuracy: 0.9831 - val_loss: 0.0974 - val_accuracy: 0.9653 - 1s/epoch - 42ms/step\n",
      "Epoch 25/30\n",
      "31/31 - 1s - loss: 0.1014 - accuracy: 0.9783 - val_loss: 0.1056 - val_accuracy: 0.9612 - 1s/epoch - 42ms/step\n",
      "Epoch 26/30\n",
      "31/31 - 1s - loss: 0.0878 - accuracy: 0.9839 - val_loss: 0.0956 - val_accuracy: 0.9827 - 1s/epoch - 45ms/step\n",
      "Epoch 27/30\n",
      "31/31 - 1s - loss: 0.0871 - accuracy: 0.9826 - val_loss: 0.0796 - val_accuracy: 0.9837 - 1s/epoch - 43ms/step\n",
      "Epoch 28/30\n",
      "31/31 - 1s - loss: 0.0712 - accuracy: 0.9865 - val_loss: 0.0762 - val_accuracy: 0.9796 - 1s/epoch - 42ms/step\n",
      "Epoch 29/30\n",
      "31/31 - 1s - loss: 0.0758 - accuracy: 0.9793 - val_loss: 0.0946 - val_accuracy: 0.9571 - 1s/epoch - 45ms/step\n",
      "Epoch 30/30\n",
      "31/31 - 1s - loss: 0.0876 - accuracy: 0.9780 - val_loss: 0.0939 - val_accuracy: 0.9735 - 1s/epoch - 42ms/step\n",
      "Epoch 1/30\n",
      "31/31 - 3s - loss: 0.0902 - accuracy: 0.8802 - val_loss: 0.0332 - val_accuracy: 0.9602 - 3s/epoch - 97ms/step\n",
      "Epoch 2/30\n",
      "31/31 - 2s - loss: 0.0237 - accuracy: 0.9729 - val_loss: 0.0545 - val_accuracy: 0.9418 - 2s/epoch - 64ms/step\n",
      "Epoch 3/30\n",
      "31/31 - 2s - loss: 0.0353 - accuracy: 0.9614 - val_loss: 0.0357 - val_accuracy: 0.9612 - 2s/epoch - 62ms/step\n",
      "Epoch 4/30\n"
     ]
    }
   ],
   "source": [
    "network1.fit(train_x, train_y, epochs=30, batch_size=128, verbose=2, validation_data=[dev_x, dev_y])\n",
    "network2.fit(train_x, train_y, epochs=30, batch_size=128, verbose=2, validation_data=[dev_x, dev_y])"
   ]
  },
  {
   "cell_type": "code",
   "execution_count": 85,
   "metadata": {},
   "outputs": [
    {
     "name": "stdout",
     "output_type": "stream",
     "text": [
      "[0.9829303  0.97833935]\n"
     ]
    },
    {
     "data": {
      "text/plain": [
       "0.28877551020408165"
      ]
     },
     "execution_count": 85,
     "metadata": {},
     "output_type": "execute_result"
    }
   ],
   "source": [
    "predictions = network1.predict(dev_x) + network2\n",
    "predictions1 = np.where(predictions > 0.5, 1, 0).astype(int)\n",
    "\n",
    "matrix = confusion_matrix(dev_y, predictions)\n",
    "print(matrix.diagonal() / matrix.sum(axis=1))\n",
    "predictions.sum() / predictions.shape[0]"
   ]
  },
  {
   "cell_type": "code",
   "execution_count": 65,
   "metadata": {},
   "outputs": [],
   "source": [
    "test = pd.read_csv('sample_submission.csv')\n",
    "test_pred = network1.predict(test_x)\n",
    "test_pred = np.where(test_pred > 0.5, 1, 0).astype(int).flatten()\n",
    "test['Prediction'] = pd.Series(test_pred)\n",
    "test.to_csv('submission.csv', index=False)"
   ]
  }
 ],
 "metadata": {
  "kernelspec": {
   "display_name": "Python 3.10.6 64-bit",
   "language": "python",
   "name": "python3"
  },
  "language_info": {
   "codemirror_mode": {
    "name": "ipython",
    "version": 3
   },
   "file_extension": ".py",
   "mimetype": "text/x-python",
   "name": "python",
   "nbconvert_exporter": "python",
   "pygments_lexer": "ipython3",
   "version": "3.10.6"
  },
  "orig_nbformat": 4,
  "vscode": {
   "interpreter": {
    "hash": "31f2aee4e71d21fbe5cf8b01ff0e069b9275f58929596ceb00d14d90e3e16cd6"
   }
  }
 },
 "nbformat": 4,
 "nbformat_minor": 2
}
